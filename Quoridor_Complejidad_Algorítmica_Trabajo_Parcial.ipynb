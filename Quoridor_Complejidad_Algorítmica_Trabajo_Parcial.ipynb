{
  "nbformat": 4,
  "nbformat_minor": 0,
  "metadata": {
    "colab": {
      "name": "Quoridor Complejidad Algorítmica - Trabajo Parcial.ipynb",
      "provenance": [],
      "collapsed_sections": [],
      "include_colab_link": true
    },
    "kernelspec": {
      "name": "python3",
      "display_name": "Python 3"
    }
  },
  "cells": [
    {
      "cell_type": "markdown",
      "metadata": {
        "id": "view-in-github",
        "colab_type": "text"
      },
      "source": [
        "<a href=\"https://colab.research.google.com/github/ccarazasc/complejidadAlgoritmica-quoridor/blob/master/Quoridor_Complejidad_Algor%C3%ADtmica_Trabajo_Parcial.ipynb\" target=\"_parent\"><img src=\"https://colab.research.google.com/assets/colab-badge.svg\" alt=\"Open In Colab\"/></a>"
      ]
    },
    {
      "cell_type": "markdown",
      "metadata": {
        "id": "3sgJhvhevj9B"
      },
      "source": [
        "# Introducción\n"
      ]
    },
    {
      "cell_type": "markdown",
      "metadata": {
        "id": "zugvhCyuy2ck"
      },
      "source": [
        "Desde tiempos muy antiguos, el ser humano ha buscado refinar sus habilidades del mundo real a través de juegos y simulaciones. Eventualmente, y con introducción del sedentarismo, los juegos fueron evolucionando y pasaron a ser utilizados como una herramienta de entretenimiento. Aún en estos casos, mientras va pasando el tiempo, suele surgir una escena competitiva para cada nuevo juego que aterriza en los radares de las personas con aptitudes para ellos. Juegos tan antiguos como Go, backgammon y el ajedrez son jugados aún hasta el día de hoy y poseen una gran cantidad de torneos y guías estratégicas. En el momento en el que se inventaron los microprocesadores, algunas personas dejaron de buscar resolver el problema de ganar por sí mismos para poder programar computadoras que lo hagan por ellos, y la forma de ver los juegos cambió. Poco a poco juegos como el ajedrez fueron siendo “resueltos” por programas de computadora que simulaban varias alternativas de juego y empleaban distintos algoritmos para tomar las mejores decisiones para cada turno y dejando a los jugadores humanos atrás en competitividad. Si hay un juego, ya sea físico o virtual, siempre habrá un grupo de gente intentando crear una inteligencia artificial que pueda ganarle a las personas y, cuando no haya un oponente humano capaz de vencer a la inteligencia artificial, ganarles a otras inteligencias artificiales. En nuestro caso, buscaremos aplicar los conocimientos adquiridos hasta el momento en el curso de Complejidad Algorítmica para simular el juego de mesa Quoridor.\n",
        "\n",
        "Quoridor es un juego de dos a cuatro jugadores que se juega, clásicamente, en un tablero de 81 espacios cuadrados (9x9) en el cual se coloca una ficha por jugador en bordes opuestos del tablero. El objetivo del juego es ser el primer jugador en llevar su ficha de su lado del tablero al lado opuesto de este, pero lo característico de este juego es que cada uno de los jugadores puede colocar barreras que bloquean el camino de los jugadores, lo que hace este juego se vuelva más intrincado de resolver.\n",
        "\n",
        "Mientras que en la actualidad existe una gran cantidad de juegos de mesa de distintas complejidades, muchos de sus tableros pueden ser representados a través de grafos. Un grafo es, informalmente, un grupo de nodos o vértices que presentan conexiones entre ellos llamadas vértices y presentan una forma fácil de representar relaciones entre objetos (MIT, 2018). En el tablero de un juego de mesa, una arista de un grafo puede representar la conexión entre dos espacios distintos a través de los cuales la ficha de un jugador puede desplazarse, mientras que un nodo puede representar uno de los espacios que puede ocupar uno o varios jugadores. Si se necesita que el jugador solo pueda ir en una dirección (en juegos como Monopolio) se pueden utilizar grafos dirigidos, o grafos no dirigidos en juegos como el ajedrez. A su vez, en juegos como el Quoridor que buscan encontrar la mejor forma para llegar de un lugar a otro, hay varios algoritmos conocidos que veremos durante el desarrollo del trabajo que utilizan los grafos para encontrar el camino más rápido. \n",
        "Al finalizar este trabajo, buscamos mejorar nuestro entendimiento de estos algoritmos y profundizar en la importancia de sus correctos usos en distintas situaciones, además de ejercitar nuestras habilidades de abstracción y de programación. Lograr la capacidad de evaluar qué algoritmo debe ser utilizado en qué momento utilizando el cálculo de complejidades y presentar los resultados de manera adecuada y presentable es la competencia principal que buscamos desarrollar, por lo que este trabajo buscará reflejar la realización de estos logros, además de ahondar más en temas de nuestro propio interés como inteligencia artificial, que están ligados muy cercanamente a la teoría de juegos y el desarrollo de oponentes artificiales.\n",
        "\n",
        "\n"
      ]
    },
    {
      "cell_type": "markdown",
      "metadata": {
        "id": "2S8jJrV110md"
      },
      "source": [
        "#Estado del arte"
      ]
    },
    {
      "cell_type": "markdown",
      "metadata": {
        "id": "ADMVLSmJq3-R"
      },
      "source": [
        "\n",
        "\n",
        "Depth first search (DFS): \n",
        "\n",
        "\n",
        "> Es un algoritmo para buscar una estructura de datos de árbol o gráfico. El algoritmo comienza en el nodo raíz (superior) de un árbol y llega tan lejos como puede por una rama determinada (ruta), luego retrocede hasta que encuentra una ruta inexplorada y luego la explora. El algoritmo hace esto hasta que se ha explorado todo el gráfico. Muchos problemas de la informática pueden pensarse en términos de gráficos. Por ejemplo, analizar redes, mapear rutas, programar y encontrar árboles de expansión son problemas de gráficos. Para analizar estos problemas, son útiles los algoritmos como la búsqueda en profundidad. (Brillant,sf)\n",
        "\n",
        "Breadth First Search:\n",
        "\n",
        "> La búsqueda primero en amplitud (BFS) es un algoritmo de búsqueda de gráficos importante que se utiliza para resolver muchos problemas, incluida la búsqueda del camino más corto en un gráfico y la resolución de juegos de rompecabezas (como los cubos de Rubik). La búsqueda primero en amplitud comienza buscando un nodo de inicio, seguido de sus nodos adyacentes, luego todos los nodos a los que se puede llegar mediante una ruta desde el nodo de inicio que contiene dos bordes, tres bordes, etc. Formalmente, el algoritmo BFS visita todos los vértices de un gráfico.  (Brillant,sf)\n",
        "\n",
        " Dijkstra Algorithm:\n",
        "\n",
        "\n",
        "> También llamado algoritmo de caminos mínimos, es un algoritmo para la determinación del camino más corto dado un vértice origen al resto de vértices en un grafo con pesos en cada arista. El problema del camino más corto de un vértice a otro consiste en determinar el camino de menor costo, desde un vértice u a otro vértice v. El costo de un camino es la suma de los costos (pesos) de los arcos que lo conforman.\n",
        "\n",
        "\n",
        "\n",
        "\n",
        "\n",
        "\n"
      ]
    },
    {
      "cell_type": "markdown",
      "metadata": {
        "id": "pTWSuPxQq4mc"
      },
      "source": [
        "#Metodología"
      ]
    },
    {
      "cell_type": "markdown",
      "metadata": {
        "id": "oFroc46bq7-4"
      },
      "source": [
        "Decidimos utilizar distintas dimensiones en el tamaño de nuestro tablero para poder obtener los tiempos de ejecución de nuestros algoritmos y, con esto, sus complejidades algorítmicas. Las medidas son: 9x9, 27x27, 99x99, 270x270, 540x540 y 999x999. Creemos que estas medidas son las adecuadas para la construcción de un gráfico de líneas, con el que conseguiremos comparar la eficiencia de nuestros algoritmos y podremos diferenciar qué algoritmo es el que más se adecúa para el desarrollo de Quoridor o cualquier juego en el que se necesiten algoritmos de búsqueda del camino más corto para grafos de dimensiones grandes.\n",
        "\n",
        "El primer algoritmo que utilizaremos será Breadth First Search (BFS), el cual recorre los nodos de un grafo por anchura. Este algoritmo nos servirá principalmente para poder hallar el camino más corto por el que un jugador puede llegar al lado opuesto y ganar la partida. Esto tomando en cuenta las restricciones (muros puestos en el tablero).\n",
        "\n",
        "Adicionalmente, utilizaremos el algoritmo Depth First Search (DFS), el cual recorre los nodos por profundidad, es decir, no retrocede hasta encontrar a un nodo que no sea padre. Este algoritmo, al igual que el Breadth First Search, será usado para encontrar el camino adecuado que un jugador debe tomar para ganar el juego.\n",
        "\n",
        "Por último, implementaremos el algoritmo de Dijkstra, el cual está clasificado dentro de los algoritmos de búsqueda. Este, tal como el Breadth First Search y el Depth First Search, encontrará el camino menos pesado de un nodo de origen a un nodo localizado en la meta del jugador.\n",
        "Los tiempos de ejecución de estos algoritmos serán medidos y mostrados en una gráfica lineal hecha con la biblioteca “matplotlib”, la cual facilita este tipo de comunicación gráfica. Al tener tres distintos algoritmos y muchas pruebas o muestras de los tiempos de compilación, consideramos que la gráfica lineal es la más adecuada para esta comparación.\n",
        "\n",
        "Respecto de la estrategia para la toma de desiciones (muros, movimiento) cada jugador evaluara si es que los demas jugadores interfieren en su camino y cual es el jugador que llegara mas rapido evaluandolo con su algoritmo, de manera que, los jugadoras trataran de ganar al jugador con la mayor ventaja en el juego.\n",
        "\n",
        "\n"
      ]
    },
    {
      "cell_type": "markdown",
      "metadata": {
        "id": "R0JlZ_6ja2iv"
      },
      "source": [
        "#Experimentos"
      ]
    },
    {
      "cell_type": "code",
      "metadata": {
        "id": "_quqh9VJdG-6"
      },
      "source": [
        "import networkx as nx\n",
        "import matplotlib.pyplot as plt"
      ],
      "execution_count": null,
      "outputs": []
    },
    {
      "cell_type": "code",
      "metadata": {
        "id": "-JjUDeW8cU45"
      },
      "source": [
        "def GenBoard(m, n):\n",
        "    G = nx.grid_2d_graph(m, n)\n",
        "    pos = dict( (n, n) for n in G.nodes() )\n",
        "    nx.draw(G, pos, with_labels=True)\n",
        "\n",
        "\n",
        "m, n = 9, 9\n",
        "GenBoard(m, n)"
      ],
      "execution_count": null,
      "outputs": []
    },
    {
      "cell_type": "code",
      "metadata": {
        "id": "K62EJXJ4t5NW"
      },
      "source": [
        "class Board:\n",
        "    def __init__(self, m, n):\n",
        "        self.m = m\n",
        "        self.n = n\n",
        "        self.G = nx.grid_2d_graph(m, n)"
      ],
      "execution_count": null,
      "outputs": []
    },
    {
      "cell_type": "code",
      "metadata": {
        "id": "3Y1gEjKet5S7"
      },
      "source": [
        "class Player:\n",
        "  def __init__(self, n_player, board):\n",
        "    self.n_player = n_player\n",
        "    self.G = board.G.copy()\n",
        "    self.x = board.n // 2\n",
        "    self.y = board.m - 1"
      ],
      "execution_count": null,
      "outputs": []
    },
    {
      "cell_type": "code",
      "metadata": {
        "id": "KFNAGDukwhFo"
      },
      "source": [
        "    nx.set_node_attributes(self.G, False, 'is_winning_pos')\n",
        "    for i in range(board.n):\n",
        "        self.G.nodes[(0, i)]['is_winning_pos'] = True"
      ],
      "execution_count": null,
      "outputs": []
    },
    {
      "cell_type": "code",
      "metadata": {
        "id": "sCzxDLA6t5D4"
      },
      "source": [
        "  self.G.remove_node((0, board.n // 2))\n",
        "    self.G.remove_node((board.m // 2, 0))\n",
        "    self.G.remove_node((board.m // 2, board.n - 1))"
      ],
      "execution_count": null,
      "outputs": []
    },
    {
      "cell_type": "code",
      "metadata": {
        "id": "7dz2JRlDzt_Y"
      },
      "source": [
        " def draw(self, board, surface):\n",
        "        square_w, square_h = board.square_dimension()\n",
        "        x, y = get_position_from_player_number(self, board)\n",
        "        x, y = board.get_position_on_board(x, y, square_w, square_h)\n",
        "        pygame.draw.ellipse(surface, self.c, (x, y, square_w, square_h))"
      ],
      "execution_count": null,
      "outputs": []
    },
    {
      "cell_type": "code",
      "metadata": {
        "id": "Gow8wWVnzVVD"
      },
      "source": [
        "    def move_player(self, n_player):\n",
        "        current = self.players[n_player]\n",
        "        prev_pos = current.x, current.y\n",
        "\n",
        "        start = time.time()\n",
        "        current.update_position()\n",
        "        end = time.time()\n",
        "        duration = end - start\n",
        "\n",
        "        data[n_player + 1]['Total'] += duration\n",
        "        data[n_player + 1]['Counter'] += 1\n",
        "\n",
        "        new_pos = current.x, current.y\n",
        "\n",
        "        board_center = self.board.m // 2, self.board.n // 2\n",
        "\n",
        "        rotations = 1\n",
        "        i = (n_player + 1) % self.n_players\n",
        "        while i != n_player:\n",
        "            p = self.players[i]\n",
        "            prev_pos_p = rotate(prev_pos[0], prev_pos[1], -rotations * 90, board_center)\n",
        "            new_pos_p = rotate(new_pos[0], new_pos[1], -rotations * 90, board_center)\n",
        "            p.update_view(prev_pos_p, new_pos_p)\n",
        "            i = (i + 1) % self.n_players\n",
        "            rotations = rotations + 1\n"
      ],
      "execution_count": null,
      "outputs": []
    },
    {
      "cell_type": "markdown",
      "metadata": {
        "id": "Q6mojV_Z0B2h"
      },
      "source": [
        "#Algoritmo\n"
      ]
    },
    {
      "cell_type": "code",
      "metadata": {
        "id": "KyVxaTkw07Zy"
      },
      "source": [
        "\n",
        "def dfs_edges(G, source=None, depth_limit=None):\n",
        "    if source is None:\n",
        "        # edges for all components\n",
        "        nodes = G\n",
        "    else:\n",
        "        # edges for components with source\n",
        "        nodes = [source]\n",
        "    visited = set()\n",
        "    if depth_limit is None:\n",
        "        depth_limit = len(G)\n",
        "    for start in nodes:\n",
        "        if start in visited:\n",
        "            continue\n",
        "        visited.add(start)\n",
        "        stack = [(start, depth_limit, iter(G[start]))]\n",
        "        while stack:\n",
        "            parent, depth_now, children = stack[-1]\n",
        "            try:\n",
        "                child = next(children)\n",
        "                if child not in visited:\n",
        "                    yield parent, child\n",
        "                    visited.add(child)\n",
        "                    if depth_now > 1:\n",
        "                        stack.append((child, depth_now - 1, iter(G[child])))\n",
        "            except StopIteration:\n",
        "                stack.pop()\n",
        "\n",
        "\n",
        "def dfs_algorithm(G, source=None, depth_limit=None):\n",
        "    T = nx.DiGraph()\n",
        "    if source is None:\n",
        "        T.add_nodes_from(G)\n",
        "    else:\n",
        "        T.add_node(source)\n",
        "    T.add_edges_from(dfs_edges(G, source, depth_limit))\n",
        "    return T\n"
      ],
      "execution_count": null,
      "outputs": []
    },
    {
      "cell_type": "code",
      "metadata": {
        "id": "aKqEBFxX1ARP"
      },
      "source": [
        "from collections import deque\n",
        "\n",
        "\n",
        "def generic_edges(G, source, neighbors=None, depth_limit=None, sort_neighbors=None):\n",
        "    if callable(sort_neighbors):\n",
        "        _neighbors = neighbors\n",
        "        neighbors = lambda node: iter(sort_neighbors(_neighbors(node)))\n",
        "\n",
        "    visited = {source}\n",
        "    if depth_limit is None:\n",
        "        depth_limit = len(G)\n",
        "    queue = deque([(source, depth_limit, neighbors(source))])\n",
        "    while queue:\n",
        "        parent, depth_now, children = queue[0]\n",
        "        try:\n",
        "            child = next(children)\n",
        "            if child not in visited:\n",
        "                yield parent, child\n",
        "                visited.add(child)\n",
        "                if depth_now > 1:\n",
        "                    queue.append((child, depth_now - 1, neighbors(child)))\n",
        "        except StopIteration:\n",
        "            queue.popleft()\n",
        "\n",
        "\n",
        "def bfs_edges(G, source, reverse=False, depth_limit=None, sort_neighbors=None):\n",
        "    if reverse and G.is_directed():\n",
        "        successors = G.predecessors\n",
        "    else:\n",
        "        successors = G.neighbors\n",
        "    yield from generic_edges(G, source, successors, depth_limit, sort_neighbors)\n",
        "\n",
        "\n",
        "def bfs_algorithm(G, source, reverse=False, depth_limit=None, sort_neighbors=None):\n",
        "    T = nx.DiGraph()\n",
        "    T.add_node(source)\n",
        "    edges_gen = bfs_edges(\n",
        "        G,\n",
        "        source,\n",
        "        reverse=reverse,\n",
        "        depth_limit=depth_limit,\n",
        "        sort_neighbors=sort_neighbors,\n",
        "    )\n",
        "    T.add_edges_from(edges_gen)\n",
        "    return T\n"
      ],
      "execution_count": null,
      "outputs": []
    },
    {
      "cell_type": "code",
      "metadata": {
        "id": "Ptwez6Z-1F32"
      },
      "source": [
        "def extraer_pesos(G, weight):\n",
        "    if callable(weight):\n",
        "        return weight\n",
        "\n",
        "    if G.is_multigraph():\n",
        "        return lambda u, v, d: min(attr.get(weight, 1) for attr in d.values())\n",
        "    return lambda u, v, data: data.get(weight, 1)\n",
        "\n",
        "\n",
        "def para_un_vertice(G, inicio, final=None, limite=None, atributo=\"weight\"):\n",
        "    return varios_vertices(\n",
        "        G, {inicio}, limite=limite, final=final, peso=atributo\n",
        "    )\n",
        "\n",
        "\n",
        "def dijkstra_algorithm(G, inicio, final, atributo=\"weight\"):\n",
        "    (distancia_total, camino) = para_un_vertice(G, inicio, final=final, atributo=atributo)\n",
        "    return camino\n",
        "\n",
        "\n",
        "def varios_vertices(G, iniciales, final=None, limite=None, peso=\"weight\"):\n",
        "    if not iniciales:\n",
        "        raise ValueError(\"El grafo esta vacio\")\n",
        "\n",
        "    if final in iniciales:\n",
        "        return (0, [final])\n",
        "    peso = extraer_pesos(G, peso)\n",
        "    camino = {inicio: [inicio] for inicio in iniciales}\n",
        "    distancia = _dijkstra_multisource(\n",
        "        G, iniciales, peso, caminos=camino, limite=limite, final=final)\n",
        "    if final is None:\n",
        "        return (distancia, camino)\n",
        "    try:\n",
        "        return (distancia[final], camino[final])\n",
        "    except KeyError as e:\n",
        "        raise nx.NetworkXNoPath(f\"No path to {final}.\") from e\n",
        "\n",
        "\n",
        "def _dijkstra_multisource(\n",
        "        G, iniciales, pesos, pred=None, caminos=None, limite=None, final=None\n",
        "):\n",
        "    G_succ = G._succ if G.is_directed() else G._adj\n",
        "\n",
        "    push = heappush\n",
        "    pop = heappop\n",
        "    distancia = {}\n",
        "    visitado = {}\n",
        "    c = count()\n",
        "    valores_x_vertice = []\n",
        "    for vertice_inicial in iniciales:\n",
        "        if vertice_inicial not in G:\n",
        "            raise nx.NodeNotFound(f\"El vertice origen {vertice_inicial}no es parte del grafo\")\n",
        "        visitado[vertice_inicial] = 0\n",
        "        push(valores_x_vertice, (0, next(c), vertice_inicial))\n",
        "    while valores_x_vertice:\n",
        "        (dist, contador, verti) = pop(valores_x_vertice)\n",
        "        if verti in distancia:\n",
        "            continue\n",
        "        distancia[verti] = dist\n",
        "        if verti == final:\n",
        "            break\n",
        "        for u, e in G_succ[verti].items():\n",
        "            cost = pesos(verti, u, e)\n",
        "            if cost is None:\n",
        "                continue\n",
        "            vu_dist = distancia[verti] + cost\n",
        "            if limite is not None:\n",
        "                if vu_dist > limite:\n",
        "                    continue\n",
        "            if u in distancia:\n",
        "                u_dist = distancia[u]\n",
        "                if vu_dist < u_dist:\n",
        "                    raise ValueError(\"Camino incorrecto:\", \"pesos negativos invalidos\")\n",
        "                elif pred is not None and vu_dist == u_dist:\n",
        "                    pred[u].append(verti)\n",
        "            elif u not in visitado or vu_dist < visitado[u]:\n",
        "                visitado[u] = vu_dist\n",
        "                push(valores_x_vertice, (vu_dist, next(c), u))\n",
        "                if caminos is not None:\n",
        "                    caminos[u] = caminos[verti] + [u]\n",
        "                if pred is not None:\n",
        "                    pred[u] = [verti]\n",
        "            elif vu_dist == visitado[u]:\n",
        "                if pred is not None:\n",
        "                    pred[u].append(verti)\n",
        "\n",
        "    return distancia"
      ],
      "execution_count": null,
      "outputs": []
    },
    {
      "cell_type": "markdown",
      "metadata": {
        "id": "xOihHqWE1JXX"
      },
      "source": [
        "#Resultados\n",
        "  "
      ]
    },
    {
      "cell_type": "markdown",
      "metadata": {
        "id": "s-lQCL8Q3a3v"
      },
      "source": [
        "|                | Board 9x9 | Board 19x19 | Board 29x29 |Board 39x39 |Board 49x49|\n",
        "|-----| ---------- | ---------- |------------|------------|------------| \n",
        "|BFS| 0.0009312066396077474   | 0.008869295534880264  |0.0223773950070750957  |0.06623631299928177   |0.13009375020077354  | \n",
        "|DFS| 0.0018521717616489955  | 0.011450902275417162   | 0.03586606025695801  | 0.06677400060631763  | 0.14785813395656758 | \n",
        "|Dijkstra| 0.0032772336687360492   | 0.024251431226730347   | 0.07669480641682942  | 0.1744460429268322   | 0.3340913715647228   |  "
      ]
    },
    {
      "cell_type": "markdown",
      "metadata": {
        "id": "K-wG0w1F4VWh"
      },
      "source": [
        "#Conclusiones"
      ]
    },
    {
      "cell_type": "markdown",
      "metadata": {
        "id": "-0DKiy6Q6lW3"
      },
      "source": [
        "* Podemos concluir que aunque el tiempo en encontrar la mejor ruta sea muy pequeña no necesariamente proporciona la mejor ruta en cantidad de movimientos.\n",
        "* Se pudo observar que mientras mas grande es el tamaño del tablero, el tiempo de ejecución crece exponencialmente.\n",
        "* El algoritmo Disjktra es el que mas tiempo de ejecución toma y la diferencia se hace aun mayor cuando se va incrementando el tamaño del tablero"
      ]
    },
    {
      "cell_type": "markdown",
      "metadata": {
        "id": "uBqWbLy_TAcV"
      },
      "source": [
        "#Repositorio\n",
        "  "
      ]
    },
    {
      "cell_type": "markdown",
      "metadata": {
        "id": "XJn1_vtVTQ43"
      },
      "source": [
        "https://github.com/ccarazasc/complejidadAlgoritmica-quoridor"
      ]
    },
    {
      "cell_type": "markdown",
      "metadata": {
        "id": "d56Gt16pX_XA"
      },
      "source": [
        "#Bibliografia\n"
      ]
    },
    {
      "cell_type": "markdown",
      "metadata": {
        "id": "PHyses1NYEMo"
      },
      "source": [
        "BRILLANT (s.f) Depth-First Search (DFS). Recuperado de: https://brilliant.org/wiki/depth-first-search-dfs/  [Consultado el 19 de septiembre del 2020]\n",
        "BRILLANT (s.f) Breadth First Search. Recuperado de: https://brilliant.org/wiki/depth-first-search-dfs/  [Consultado el 18 de septiembre del 2020]\n",
        "\n",
        "Algoritmo de Dijkstra\t(s.f) Recuperado de: https://www.ecured.cu/Algoritmo_de_Dijkstra [Consultado el 18 de septiembre del 2020]"
      ]
    }
  ]
}