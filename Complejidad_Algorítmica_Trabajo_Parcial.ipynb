{
  "nbformat": 4,
  "nbformat_minor": 0,
  "metadata": {
    "colab": {
      "name": "Complejidad Algorítmica - Trabajo Parcial.ipynb",
      "provenance": [],
      "collapsed_sections": [],
      "include_colab_link": true
    },
    "kernelspec": {
      "name": "python3",
      "display_name": "Python 3"
    }
  },
  "cells": [
    {
      "cell_type": "markdown",
      "metadata": {
        "id": "view-in-github",
        "colab_type": "text"
      },
      "source": [
        "<a href=\"https://colab.research.google.com/github/ccarazasc/complejidadAlgoritmica-quoridor/blob/master/Complejidad_Algor%C3%ADtmica_Trabajo_Parcial.ipynb\" target=\"_parent\"><img src=\"https://colab.research.google.com/assets/colab-badge.svg\" alt=\"Open In Colab\"/></a>"
      ]
    },
    {
      "cell_type": "markdown",
      "metadata": {
        "id": "3sgJhvhevj9B",
        "colab_type": "text"
      },
      "source": [
        "# Introducción\n"
      ]
    },
    {
      "cell_type": "markdown",
      "metadata": {
        "id": "zugvhCyuy2ck",
        "colab_type": "text"
      },
      "source": [
        "Desde tiempos muy antiguos, el ser humano ha buscado refinar sus habilidades del mundo real a través de juegos y simulaciones. Eventualmente, y con introducción del sedentarismo, los juegos fueron evolucionando y pasaron a ser utilizados como una herramienta de entretenimiento. Aún en estos casos, mientras va pasando el tiempo, suele surgir una escena competitiva para cada nuevo juego que aterriza en los radares de las personas con aptitudes para ellos. Juegos tan antiguos como Go, backgammon y el ajedrez son jugados aún hasta el día de hoy y poseen una gran cantidad de torneos y guías estratégicas. En el momento en el que se inventaron los microprocesadores, algunas personas dejaron de buscar resolver el problema de ganar por sí mismos para poder programar computadoras que lo hagan por ellos, y la forma de ver los juegos cambió. Poco a poco juegos como el ajedrez fueron siendo “resueltos” por programas de computadora que simulaban varias alternativas de juego y empleaban distintos algoritmos para tomar las mejores decisiones para cada turno y dejando a los jugadores humanos atrás en competitividad. Si hay un juego, ya sea físico o virtual, siempre habrá un grupo de gente intentando crear una inteligencia artificial que pueda ganarle a las personas y, cuando no haya un oponente humano capaz de vencer a la inteligencia artificial, ganarles a otras inteligencias artificiales. En nuestro caso, buscaremos aplicar los conocimientos adquiridos hasta el momento en el curso de Complejidad Algorítmica para simular el juego de mesa Quoridor.\n",
        "\n",
        "Quoridor es un juego de dos a cuatro jugadores que se juega, clásicamente, en un tablero de 81 espacios cuadrados (9x9) en el cual se coloca una ficha por jugador en bordes opuestos del tablero. El objetivo del juego es ser el primer jugador en llevar su ficha de su lado del tablero al lado opuesto de este, pero lo característico de este juego es que cada uno de los jugadores puede colocar barreras que bloquean el camino de los jugadores, lo que hace este juego se vuelva más intrincado de resolver.\n",
        "\n",
        "Mientras que en la actualidad existe una gran cantidad de juegos de mesa de distintas complejidades, muchos de sus tableros pueden ser representados a través de grafos. Un grafo es, informalmente, un grupo de nodos o vértices que presentan conexiones entre ellos llamadas vértices y presentan una forma fácil de representar relaciones entre objetos (MIT, 2018). En el tablero de un juego de mesa, una arista de un grafo puede representar la conexión entre dos espacios distintos a través de los cuales la ficha de un jugador puede desplazarse, mientras que un nodo puede representar uno de los espacios que puede ocupar uno o varios jugadores. Si se necesita que el jugador solo pueda ir en una dirección (en juegos como Monopolio) se pueden utilizar grafos dirigidos, o grafos no dirigidos en juegos como el ajedrez. A su vez, en juegos como el Quoridor que buscan encontrar la mejor forma para llegar de un lugar a otro, hay varios algoritmos conocidos que veremos durante el desarrollo del trabajo que utilizan los grafos para encontrar el camino más rápido. \n",
        "Al finalizar este trabajo, buscamos mejorar nuestro entendimiento de estos algoritmos y profundizar en la importancia de sus correctos usos en distintas situaciones, además de ejercitar nuestras habilidades de abstracción y de programación. Lograr la capacidad de evaluar qué algoritmo debe ser utilizado en qué momento utilizando el cálculo de complejidades y presentar los resultados de manera adecuada y presentable es la competencia principal que buscamos desarrollar, por lo que este trabajo buscará reflejar la realización de estos logros, además de ahondar más en temas de nuestro propio interés como inteligencia artificial, que están ligados muy cercanamente a la teoría de juegos y el desarrollo de oponentes artificiales.\n",
        "\n",
        "\n"
      ]
    },
    {
      "cell_type": "markdown",
      "metadata": {
        "id": "2S8jJrV110md",
        "colab_type": "text"
      },
      "source": [
        "#Estado del arte"
      ]
    },
    {
      "cell_type": "markdown",
      "metadata": {
        "id": "ADMVLSmJq3-R",
        "colab_type": "text"
      },
      "source": [
        "\n",
        "\n",
        "Depth first search (DFS): \n",
        "\n",
        "\n",
        "> Es un algoritmo para buscar una estructura de datos de árbol o gráfico. El algoritmo comienza en el nodo raíz (superior) de un árbol y llega tan lejos como puede por una rama determinada (ruta), luego retrocede hasta que encuentra una ruta inexplorada y luego la explora. El algoritmo hace esto hasta que se ha explorado todo el gráfico. Muchos problemas de la informática pueden pensarse en términos de gráficos. Por ejemplo, analizar redes, mapear rutas, programar y encontrar árboles de expansión son problemas de gráficos. Para analizar estos problemas, son útiles los algoritmos como la búsqueda en profundidad. (Brillant,sf)\n",
        "\n",
        "Breadth First Search:\n",
        "\n",
        "> La búsqueda primero en amplitud (BFS) es un algoritmo de búsqueda de gráficos importante que se utiliza para resolver muchos problemas, incluida la búsqueda del camino más corto en un gráfico y la resolución de juegos de rompecabezas (como los cubos de Rubik). La búsqueda primero en amplitud comienza buscando un nodo de inicio, seguido de sus nodos adyacentes, luego todos los nodos a los que se puede llegar mediante una ruta desde el nodo de inicio que contiene dos bordes, tres bordes, etc. Formalmente, el algoritmo BFS visita todos los vértices de un gráfico.  (Brillant,sf)\n",
        "\n",
        " Dijkstra Algorithm:\n",
        "\n",
        "\n",
        "> También llamado algoritmo de caminos mínimos, es un algoritmo para la determinación del camino más corto dado un vértice origen al resto de vértices en un grafo con pesos en cada arista. El problema del camino más corto de un vértice a otro consiste en determinar el camino de menor costo, desde un vértice u a otro vértice v. El costo de un camino es la suma de los costos (pesos) de los arcos que lo conforman.\n",
        "\n",
        "\n",
        "\n",
        "\n",
        "\n",
        "\n"
      ]
    },
    {
      "cell_type": "markdown",
      "metadata": {
        "id": "pTWSuPxQq4mc",
        "colab_type": "text"
      },
      "source": [
        "#Metodología"
      ]
    },
    {
      "cell_type": "markdown",
      "metadata": {
        "id": "oFroc46bq7-4",
        "colab_type": "text"
      },
      "source": [
        "Decidimos utilizar distintas dimensiones en el tamaño de nuestro tablero para poder obtener los tiempos de ejecución de nuestros algoritmos y, con esto, sus complejidades algorítmicas. Las medidas son: 9x9, 27x27, 99x99, 270x270, 540x540 y 999x999. Creemos que estas medidas son las adecuadas para la construcción de un gráfico de líneas, con el que conseguiremos comparar la eficiencia de nuestros algoritmos y podremos diferenciar qué algoritmo es el que más se adecúa para el desarrollo de Quoridor o cualquier juego en el que se necesiten algoritmos de búsqueda del camino más corto para grafos de dimensiones grandes.\n",
        "\n",
        "El primer algoritmo que utilizaremos será Breadth First Search (BFS), el cual recorre los nodos de un grafo por anchura. Este algoritmo nos servirá principalmente para poder hallar el camino más corto por el que un jugador puede llegar al lado opuesto y ganar la partida. Esto tomando en cuenta las restricciones (muros puestos en el tablero).\n",
        "\n",
        "Adicionalmente, utilizaremos el algoritmo Depth First Search (DFS), el cual recorre los nodos por profundidad, es decir, no retrocede hasta encontrar a un nodo que no sea padre. Este algoritmo, al igual que el Breadth First Search, será usado para encontrar el camino adecuado que un jugador debe tomar para ganar el juego.\n",
        "\n",
        "Por último, implementaremos el algoritmo de Dijkstra, el cual está clasificado dentro de los algoritmos de búsqueda. Este, tal como el Breadth First Search y el Depth First Search, encontrará el camino menos pesado de un nodo de origen a un nodo localizado en la meta del jugador.\n",
        "Los tiempos de ejecución de estos algoritmos serán medidos y mostrados en una gráfica lineal hecha con la biblioteca “matplotlib”, la cual facilita este tipo de comunicación gráfica. Al tener tres distintos algoritmos y muchas pruebas o muestras de los tiempos de compilación, consideramos que la gráfica lineal es la más adecuada para esta comparación.\n"
      ]
    }
  ]
}